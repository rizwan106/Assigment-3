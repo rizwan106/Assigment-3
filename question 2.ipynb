{
 "cells": [
  {
   "cell_type": "code",
   "execution_count": 1,
   "id": "8d6f09a9",
   "metadata": {},
   "outputs": [
    {
     "name": "stdout",
     "output_type": "stream",
     "text": [
      "Checking if 4 exists in list ( using loop ) : \n",
      "Element Exists\n",
      "Checking if 4 exists in list ( using in ) : \n",
      "Element Exists\n"
     ]
    }
   ],
   "source": [
    "# Python code to demonstrate\n",
    "# checking of element existence\n",
    "# using loops and in\n",
    "\n",
    "# Initializing list\n",
    "test_list = [ 1, 6, 3, 5, 3, 4 ]\n",
    "\n",
    "print(\"Checking if 4 exists in list ( using loop ) : \")\n",
    "\n",
    "# Checking if 4 exists in list\n",
    "# using loop\n",
    "for i in test_list:\n",
    "\tif(i == 4) :\n",
    "\t\tprint (\"Element Exists\")\n",
    "\n",
    "print(\"Checking if 4 exists in list ( using in ) : \")\n",
    "\n",
    "# Checking if 4 exists in list\n",
    "# using in\n",
    "if (4 in test_list):\n",
    "\tprint (\"Element Exists\")\n"
   ]
  },
  {
   "cell_type": "code",
   "execution_count": null,
   "id": "f52982f8",
   "metadata": {},
   "outputs": [],
   "source": []
  }
 ],
 "metadata": {
  "kernelspec": {
   "display_name": "Python 3 (ipykernel)",
   "language": "python",
   "name": "python3"
  },
  "language_info": {
   "codemirror_mode": {
    "name": "ipython",
    "version": 3
   },
   "file_extension": ".py",
   "mimetype": "text/x-python",
   "name": "python",
   "nbconvert_exporter": "python",
   "pygments_lexer": "ipython3",
   "version": "3.9.7"
  }
 },
 "nbformat": 4,
 "nbformat_minor": 5
}
